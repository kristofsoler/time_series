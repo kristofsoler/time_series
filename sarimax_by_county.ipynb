{
 "cells": [
  {
   "cell_type": "code",
   "execution_count": 1,
   "metadata": {},
   "outputs": [
    {
     "name": "stderr",
     "output_type": "stream",
     "text": [
      "/opt/anaconda3/lib/python3.8/site-packages/pandas/core/computation/expressions.py:20: UserWarning: Pandas requires version '2.7.3' or newer of 'numexpr' (version '2.7.1' currently installed).\n",
      "  from pandas.core.computation.check import NUMEXPR_INSTALLED\n"
     ]
    }
   ],
   "source": [
    "import numpy as np\n",
    "import pandas as pd  "
   ]
  },
  {
   "cell_type": "code",
   "execution_count": 2,
   "metadata": {},
   "outputs": [],
   "source": [
    "full_df = pd.read_csv(\"/Users/kris/Library/CloudStorage/OneDrive-Personal/Data science/big data project/full_df.csv\")\n"
   ]
  },
  {
   "cell_type": "code",
   "execution_count": 99,
   "metadata": {},
   "outputs": [
    {
     "name": "stderr",
     "output_type": "stream",
     "text": [
      "/opt/anaconda3/lib/python3.8/site-packages/ipykernel/ipkernel.py:287: DeprecationWarning: `should_run_async` will not call `transform_cell` automatically in the future. Please pass the result to `transformed_cell` argument and any exception that happen during thetransform in `preprocessing_exc_tuple` in IPython 7.17 and above.\n",
      "  and should_run_async(code)\n"
     ]
    }
   ],
   "source": [
    "full_df = full_df[~((full_df['Year'] == 2024) & (full_df['Week'] > 8))]\n",
    "df = pd.DataFrame(full_df)\n",
    "# Group by 'County' and create a dictionary of DataFrames\n",
    "county_dfs = {county: group.reset_index(drop=True) for county, group in df.groupby('County')}\n",
    "\n"
   ]
  },
  {
   "cell_type": "markdown",
   "metadata": {},
   "source": [
    "# data for hyperparameter testing"
   ]
  },
  {
   "cell_type": "code",
   "execution_count": 106,
   "metadata": {},
   "outputs": [
    {
     "name": "stdout",
     "output_type": "stream",
     "text": [
      "Processing data for: Møre og Romsdal\n",
      "Processing data for: Nordland\n",
      "Processing data for: Rogaland\n",
      "Processing data for: Troms og Finnmark\n",
      "Processing data for: Trøndelag\n",
      "Processing data for: Vestland\n"
     ]
    }
   ],
   "source": [
    "from statsmodels.tsa.stattools import adfuller\n",
    "from sklearn.preprocessing import StandardScaler, OneHotEncoder\n",
    "import pandas as pd\n",
    "\n",
    "# Iterate over each county DataFrame\n",
    "for county, county_df in county_dfs.items():\n",
    "    print(f\"Processing data for: {county}\")\n",
    "    \n",
    "\n",
    "    # Normalize the data\n",
    "    scaler = StandardScaler()\n",
    "    scaled_features = scaler.fit_transform(county_df[['Sea temperature', 'Week_Lice_Counts', 'Duration']])\n",
    "    county_df[['Sea temperature', 'Week_Lice_Counts', 'Duration']] = scaled_features\n",
    "    \n",
    "    # Create 'Date' column from 'Year' and 'Week'\n",
    "    county_df['Date'] = pd.to_datetime(county_df['Year'].astype(str) + county_df['Week'].astype(str) + '1', format='%Y%W%w')\n",
    "    \n",
    "    # Set the 'Date' column as index\n",
    "    county_df.set_index('Date', inplace=True)\n",
    "\n",
    "\n",
    "    # Update the county_dfs with the processed DataFrame\n",
    "    county_dfs[county] = county_df"
   ]
  },
  {
   "cell_type": "code",
   "execution_count": null,
   "metadata": {},
   "outputs": [
    {
     "name": "stdout",
     "output_type": "stream",
     "text": [
      "Saved Møre og Romsdal data to county_csvs/Møre_og_Romsdal.csv\n",
      "Saved Nordland data to county_csvs/Nordland.csv\n",
      "Saved Rogaland data to county_csvs/Rogaland.csv\n",
      "Saved Troms og Finnmark data to county_csvs/Troms_og_Finnmark.csv\n",
      "Saved Trøndelag data to county_csvs/Trøndelag.csv\n",
      "Saved Vestland data to county_csvs/Vestland.csv\n"
     ]
    },
    {
     "name": "stderr",
     "output_type": "stream",
     "text": [
      "/opt/anaconda3/lib/python3.8/site-packages/ipykernel/ipkernel.py:287: DeprecationWarning: `should_run_async` will not call `transform_cell` automatically in the future. Please pass the result to `transformed_cell` argument and any exception that happen during thetransform in `preprocessing_exc_tuple` in IPython 7.17 and above.\n",
      "  and should_run_async(code)\n"
     ]
    }
   ],
   "source": [
    "import os\n",
    "\n",
    "# Create a directory to save \n",
    "os.makedirs('county_csvs', exist_ok=True)\n",
    "\n",
    "# Iterate over the dictionary and save \n",
    "for county, df in county_dfs.items():\n",
    "    # Define the file name,\n",
    "    filename = f\"county_csvs/{county.replace(' ', '_')}.csv\"\n",
    "    \n",
    "    # Save the DataFrame to a CSV file\n",
    "    df.to_csv(filename)\n",
    "    \n",
    "    print(f\"Saved {county} data to {filename}\")"
   ]
  },
  {
   "cell_type": "markdown",
   "metadata": {},
   "source": [
    "### data for modeling"
   ]
  },
  {
   "cell_type": "code",
   "execution_count": 89,
   "metadata": {},
   "outputs": [
    {
     "name": "stdout",
     "output_type": "stream",
     "text": [
      "Processing data for: Møre og Romsdal\n",
      "ADF Statistic: -0.13600636947790107\n",
      "p-value: 0.9457319556158016\n",
      "Processing data for: Nordland\n",
      "ADF Statistic: -3.3270087706327187\n",
      "p-value: 0.013713511103176703\n",
      "Processing data for: Rogaland\n",
      "ADF Statistic: -0.7822092240934615\n",
      "p-value: 0.8242921980962041\n",
      "Processing data for: Troms og Finnmark\n",
      "ADF Statistic: -3.441842300497698\n",
      "p-value: 0.00961253248614305\n",
      "Processing data for: Trøndelag\n",
      "ADF Statistic: -1.6215611105920855\n",
      "p-value: 0.47191096234143015\n",
      "Processing data for: Vestland\n",
      "ADF Statistic: -1.7303737447768477\n",
      "p-value: 0.4155348432224657\n"
     ]
    }
   ],
   "source": [
    "from statsmodels.tsa.stattools import adfuller\n",
    "from sklearn.preprocessing import StandardScaler, OneHotEncoder\n",
    "import pandas as pd\n",
    "\n",
    "# Iterate over each county DataFrame\n",
    "for county, county_df in county_dfs.items():\n",
    "    print(f\"Processing data for: {county}\")\n",
    "    \n",
    "    # Sort by 'Year' and 'Week' to ensure proper ordering\n",
    "    county_df = county_df.sort_values(by=['Year', 'Week'])\n",
    "    \n",
    "    # Check for stationarity\n",
    "    result = adfuller(county_df['Outbreak_Count'])\n",
    "    print(f'ADF Statistic: {result[0]}')\n",
    "    print(f'p-value: {result[1]}')\n",
    "    \n",
    "    # If the series is not stationary, apply differencing\n",
    "    if result[1] > 0.05:\n",
    "        county_df['Outbreak_Count'] = county_df['Outbreak_Count'].diff().dropna()\n",
    "        county_df = county_df.dropna()\n",
    "        \n",
    "    # Normalize the data\n",
    "    scaler = StandardScaler()\n",
    "    scaled_features = scaler.fit_transform(county_df[['Sea temperature', 'Week_Lice_Counts', 'Duration']])\n",
    "    county_df[['Sea temperature', 'Week_Lice_Counts', 'Duration']] = scaled_features\n",
    "    \n",
    "    # Create 'Date' column from 'Year' and 'Week'\n",
    "    county_df['Date'] = pd.to_datetime(county_df['Year'].astype(str) + county_df['Week'].astype(str) + '1', format='%Y%W%w')\n",
    "    \n",
    "    # Set the 'Date' column as index\n",
    "    county_df.set_index('Date', inplace=True)\n",
    "\n",
    "    # Ensure frequency is set to monthly\n",
    "    county_df = county_df.asfreq('W-MON')  # 'MS' for month start; you can use 'M' for month end\n",
    "\n",
    "    # Update the county_dfs with the processed DataFrame\n",
    "    county_dfs[county] = county_df"
   ]
  },
  {
   "cell_type": "code",
   "execution_count": 133,
   "metadata": {},
   "outputs": [
    {
     "name": "stderr",
     "output_type": "stream",
     "text": [
      "/opt/anaconda3/lib/python3.8/site-packages/ipykernel/ipkernel.py:287: DeprecationWarning: `should_run_async` will not call `transform_cell` automatically in the future. Please pass the result to `transformed_cell` argument and any exception that happen during thetransform in `preprocessing_exc_tuple` in IPython 7.17 and above.\n",
      "  and should_run_async(code)\n"
     ]
    },
    {
     "data": {
      "text/plain": [
       "5.26984126984127"
      ]
     },
     "execution_count": 133,
     "metadata": {},
     "output_type": "execute_result"
    }
   ],
   "source": [
    "county_dfs['Vestland']['Outbreak_Count'].max()"
   ]
  },
  {
   "cell_type": "code",
   "execution_count": 6,
   "metadata": {},
   "outputs": [],
   "source": [
    "import numpy as np\n",
    "import pandas as pd\n",
    "import matplotlib.pyplot as plt\n",
    "from skforecast.ForecasterSarimax import ForecasterSarimax\n",
    "from skforecast.model_selection_sarimax import backtesting_sarimax\n",
    "from skforecast.model_selection_sarimax import grid_search_sarimax\n",
    "from pmdarima import ARIMA\n",
    "from sklearn.metrics import mean_absolute_error\n",
    "import warnings\n",
    "warnings.filterwarnings('ignore')"
   ]
  },
  {
   "cell_type": "markdown",
   "metadata": {},
   "source": [
    "### Data Split "
   ]
  },
  {
   "cell_type": "code",
   "execution_count": 110,
   "metadata": {},
   "outputs": [
    {
     "name": "stdout",
     "output_type": "stream",
     "text": [
      "Splitting data for: Møre og Romsdal\n",
      "Møre og Romsdal - y_train start: 2012-01-02 00:00:00, end: 2021-09-13 00:00:00\n",
      "Møre og Romsdal - y_test start: 2021-09-20 00:00:00, end: 2024-02-19 00:00:00\n",
      "\n",
      "Splitting data for: Nordland\n",
      "Nordland - y_train start: 2012-01-02 00:00:00, end: 2021-09-13 00:00:00\n",
      "Nordland - y_test start: 2021-09-20 00:00:00, end: 2024-02-19 00:00:00\n",
      "\n",
      "Splitting data for: Rogaland\n",
      "Rogaland - y_train start: 2012-01-02 00:00:00, end: 2021-09-13 00:00:00\n",
      "Rogaland - y_test start: 2021-09-20 00:00:00, end: 2024-02-19 00:00:00\n",
      "\n",
      "Splitting data for: Troms og Finnmark\n",
      "Troms og Finnmark - y_train start: 2012-01-02 00:00:00, end: 2021-09-13 00:00:00\n",
      "Troms og Finnmark - y_test start: 2021-09-20 00:00:00, end: 2024-02-19 00:00:00\n",
      "\n",
      "Splitting data for: Trøndelag\n",
      "Trøndelag - y_train start: 2012-01-02 00:00:00, end: 2021-09-13 00:00:00\n",
      "Trøndelag - y_test start: 2021-09-20 00:00:00, end: 2024-02-19 00:00:00\n",
      "\n",
      "Splitting data for: Vestland\n",
      "Vestland - y_train start: 2012-01-02 00:00:00, end: 2021-09-13 00:00:00\n",
      "Vestland - y_test start: 2021-09-20 00:00:00, end: 2024-02-19 00:00:00\n",
      "\n"
     ]
    }
   ],
   "source": [
    "from sktime.forecasting.model_selection import temporal_train_test_split\n",
    "import pandas as pd\n",
    "\n",
    "# Split the data into train, validation, and test sets\n",
    "split_data = {}\n",
    "for county, county_df in county_dfs.items():\n",
    "    print(f\"Splitting data for: {county}\")\n",
    "    \n",
    "    # Ensure the Date index is properly aligned and sorted\n",
    "    county_df.sort_index(inplace=True)\n",
    "    \n",
    "    y = county_df['Outbreak_Count']\n",
    "    exog = county_df.drop(columns=['Outbreak_Count','County','Year','Week'])\n",
    "    \n",
    "    # Split the data into train and test sets\n",
    "    y_train, y_test, X_train, X_test = temporal_train_test_split(y, exog, test_size=0.2)\n",
    "    \n",
    "    # Store the splits in a dictionary\n",
    "    split_data[county] = {\n",
    "        'y_train': y_train, 'y_test': y_test,\n",
    "        'X_train': X_train, 'X_test': X_test\n",
    "    }\n",
    "    \n",
    "    # Debug: Print out the start and end dates for each split\n",
    "    print(f\"{county} - y_train start: {y_train.index[0]}, end: {y_train.index[-1]}\")\n",
    "    print(f\"{county} - y_test start: {y_test.index[0]}, end: {y_test.index[-1]}\")\n",
    "    print()"
   ]
  },
  {
   "cell_type": "markdown",
   "metadata": {},
   "source": [
    "## time split method"
   ]
  },
  {
   "cell_type": "code",
   "execution_count": 7,
   "metadata": {},
   "outputs": [
    {
     "name": "stdout",
     "output_type": "stream",
     "text": [
      "Splitting data for: Møre og Romsdal\n",
      "Møre og Romsdal - Train dates : 2012-01-09 00:00:00 --- 2020-12-28 00:00:00  (n=469)\n",
      "Møre og Romsdal - Test dates  : 2021-01-04 00:00:00 --- 2024-02-19 00:00:00  (n=164)\n",
      "\n",
      "Splitting data for: Nordland\n",
      "Nordland - Train dates : 2012-01-02 00:00:00 --- 2020-12-28 00:00:00  (n=470)\n",
      "Nordland - Test dates  : 2021-01-04 00:00:00 --- 2024-02-19 00:00:00  (n=164)\n",
      "\n",
      "Splitting data for: Rogaland\n",
      "Rogaland - Train dates : 2012-01-09 00:00:00 --- 2020-12-28 00:00:00  (n=469)\n",
      "Rogaland - Test dates  : 2021-01-04 00:00:00 --- 2024-02-19 00:00:00  (n=164)\n",
      "\n",
      "Splitting data for: Troms og Finnmark\n",
      "Troms og Finnmark - Train dates : 2012-01-02 00:00:00 --- 2020-12-28 00:00:00  (n=470)\n",
      "Troms og Finnmark - Test dates  : 2021-01-04 00:00:00 --- 2024-02-19 00:00:00  (n=164)\n",
      "\n",
      "Splitting data for: Trøndelag\n",
      "Trøndelag - Train dates : 2012-01-09 00:00:00 --- 2020-12-28 00:00:00  (n=469)\n",
      "Trøndelag - Test dates  : 2021-01-04 00:00:00 --- 2024-02-19 00:00:00  (n=164)\n",
      "\n",
      "Splitting data for: Vestland\n",
      "Vestland - Train dates : 2012-01-09 00:00:00 --- 2020-12-28 00:00:00  (n=469)\n",
      "Vestland - Test dates  : 2021-01-04 00:00:00 --- 2024-02-19 00:00:00  (n=164)\n",
      "\n"
     ]
    }
   ],
   "source": [
    "import pandas as pd\n",
    "\n",
    "# Define the end date for the training set\n",
    "end_train = '2021-01-01 23:59:59'\n",
    "\n",
    "# Split the data into train and test sets manually\n",
    "split_data = {}\n",
    "for county, county_df in county_dfs.items():\n",
    "    print(f\"Splitting data for: {county}\")\n",
    "    \n",
    "    # Ensure the Date index is properly aligned and sorted\n",
    "    county_df.sort_index(inplace=True)\n",
    "    \n",
    "    y = county_df['Outbreak_Count']\n",
    "    exog = county_df.drop(columns=['Outbreak_Count','County','Year','Week'])\n",
    "    \n",
    "    # Perform the manual split based on the specified end date for training data\n",
    "    y_train = y.loc[:end_train]\n",
    "    y_test = y.loc[end_train:]\n",
    "    X_train = exog.loc[:end_train]\n",
    "    X_test = exog.loc[end_train:]\n",
    "    \n",
    "    # Store the splits in a dictionary\n",
    "    split_data[county] = {\n",
    "        'y_train': y_train, \n",
    "        'y_test': y_test,\n",
    "        'X_train': X_train, \n",
    "        'X_test': X_test\n",
    "    }\n",
    "    \n",
    "    # Debug: Print out the start and end dates for each split\n",
    "    print(\n",
    "        f\"{county} - Train dates : {y_train.index.min()} --- {y_train.index.max()}  \"\n",
    "        f\"(n={len(y_train)})\"\n",
    "    )\n",
    "    print(\n",
    "        f\"{county} - Test dates  : {y_test.index.min()} --- {y_test.index.max()}  \"\n",
    "        f\"(n={len(y_test)})\"\n",
    "    )\n",
    "    print()"
   ]
  },
  {
   "cell_type": "code",
   "execution_count": 82,
   "metadata": {},
   "outputs": [
    {
     "name": "stderr",
     "output_type": "stream",
     "text": [
      "/opt/anaconda3/lib/python3.8/site-packages/ipykernel/ipkernel.py:287: DeprecationWarning: `should_run_async` will not call `transform_cell` automatically in the future. Please pass the result to `transformed_cell` argument and any exception that happen during thetransform in `preprocessing_exc_tuple` in IPython 7.17 and above.\n",
      "  and should_run_async(code)\n"
     ]
    },
    {
     "data": {
      "image/png": "[encoded data removed]",
      "text/plain": [
       "<Figure size 504x216 with 1 Axes>"
      ]
     },
     "metadata": {
      "needs_background": "light"
     },
     "output_type": "display_data"
    }
   ],
   "source": [
    "fig, ax=plt.subplots(figsize=(7, 3))\n",
    "county_dfs['Troms og Finnmark']['Outbreak_Count'].plot(ax=ax)\n",
    "ax.legend();"
   ]
  },
  {
   "cell_type": "code",
   "execution_count": 111,
   "metadata": {},
   "outputs": [
    {
     "name": "stderr",
     "output_type": "stream",
     "text": [
      "/opt/anaconda3/lib/python3.8/site-packages/ipykernel/ipkernel.py:287: DeprecationWarning: `should_run_async` will not call `transform_cell` automatically in the future. Please pass the result to `transformed_cell` argument and any exception that happen during thetransform in `preprocessing_exc_tuple` in IPython 7.17 and above.\n",
      "  and should_run_async(code)\n"
     ]
    },
    {
     "data": {
      "text/html": [
       "<div>\n",
       "<style scoped>\n",
       "    .dataframe tbody tr th:only-of-type {\n",
       "        vertical-align: middle;\n",
       "    }\n",
       "\n",
       "    .dataframe tbody tr th {\n",
       "        vertical-align: top;\n",
       "    }\n",
       "\n",
       "    .dataframe thead th {\n",
       "        text-align: right;\n",
       "    }\n",
       "</style>\n",
       "<table border=\"1\" class=\"dataframe\">\n",
       "  <thead>\n",
       "    <tr style=\"text-align: right;\">\n",
       "      <th></th>\n",
       "      <th>Sea temperature</th>\n",
       "      <th>Week_Lice_Counts</th>\n",
       "      <th>Duration</th>\n",
       "    </tr>\n",
       "    <tr>\n",
       "      <th>Date</th>\n",
       "      <th></th>\n",
       "      <th></th>\n",
       "      <th></th>\n",
       "    </tr>\n",
       "  </thead>\n",
       "  <tbody>\n",
       "    <tr>\n",
       "      <th>2012-01-02</th>\n",
       "      <td>-0.809674</td>\n",
       "      <td>-0.181754</td>\n",
       "      <td>-2.479848</td>\n",
       "    </tr>\n",
       "    <tr>\n",
       "      <th>2012-01-09</th>\n",
       "      <td>-0.842134</td>\n",
       "      <td>0.964877</td>\n",
       "      <td>-2.479848</td>\n",
       "    </tr>\n",
       "    <tr>\n",
       "      <th>2012-01-16</th>\n",
       "      <td>-0.858971</td>\n",
       "      <td>-0.904658</td>\n",
       "      <td>-2.479848</td>\n",
       "    </tr>\n",
       "    <tr>\n",
       "      <th>2012-01-23</th>\n",
       "      <td>-1.033377</td>\n",
       "      <td>1.023522</td>\n",
       "      <td>-2.479848</td>\n",
       "    </tr>\n",
       "    <tr>\n",
       "      <th>2012-01-30</th>\n",
       "      <td>-1.215727</td>\n",
       "      <td>-1.169877</td>\n",
       "      <td>-2.479848</td>\n",
       "    </tr>\n",
       "    <tr>\n",
       "      <th>...</th>\n",
       "      <td>...</td>\n",
       "      <td>...</td>\n",
       "      <td>...</td>\n",
       "    </tr>\n",
       "    <tr>\n",
       "      <th>2021-08-16</th>\n",
       "      <td>1.572004</td>\n",
       "      <td>-0.395709</td>\n",
       "      <td>-0.221666</td>\n",
       "    </tr>\n",
       "    <tr>\n",
       "      <th>2021-08-23</th>\n",
       "      <td>1.375219</td>\n",
       "      <td>0.129755</td>\n",
       "      <td>-0.221666</td>\n",
       "    </tr>\n",
       "    <tr>\n",
       "      <th>2021-08-30</th>\n",
       "      <td>1.074190</td>\n",
       "      <td>-0.124100</td>\n",
       "      <td>-0.160311</td>\n",
       "    </tr>\n",
       "    <tr>\n",
       "      <th>2021-09-06</th>\n",
       "      <td>0.971293</td>\n",
       "      <td>-0.543630</td>\n",
       "      <td>-0.210171</td>\n",
       "    </tr>\n",
       "    <tr>\n",
       "      <th>2021-09-13</th>\n",
       "      <td>0.916095</td>\n",
       "      <td>-0.605474</td>\n",
       "      <td>-0.229842</td>\n",
       "    </tr>\n",
       "  </tbody>\n",
       "</table>\n",
       "<p>505 rows × 3 columns</p>\n",
       "</div>"
      ],
      "text/plain": [
       "            Sea temperature  Week_Lice_Counts  Duration\n",
       "Date                                                   \n",
       "2012-01-02        -0.809674         -0.181754 -2.479848\n",
       "2012-01-09        -0.842134          0.964877 -2.479848\n",
       "2012-01-16        -0.858971         -0.904658 -2.479848\n",
       "2012-01-23        -1.033377          1.023522 -2.479848\n",
       "2012-01-30        -1.215727         -1.169877 -2.479848\n",
       "...                     ...               ...       ...\n",
       "2021-08-16         1.572004         -0.395709 -0.221666\n",
       "2021-08-23         1.375219          0.129755 -0.221666\n",
       "2021-08-30         1.074190         -0.124100 -0.160311\n",
       "2021-09-06         0.971293         -0.543630 -0.210171\n",
       "2021-09-13         0.916095         -0.605474 -0.229842\n",
       "\n",
       "[505 rows x 3 columns]"
      ]
     },
     "execution_count": 111,
     "metadata": {},
     "output_type": "execute_result"
    }
   ],
   "source": [
    "split_data[\"Vestland\"]['X_train']"
   ]
  },
  {
   "cell_type": "markdown",
   "metadata": {},
   "source": [
    "### hyper p tuning"
   ]
  },
  {
   "cell_type": "code",
   "execution_count": null,
   "metadata": {},
   "outputs": [],
   "source": [
    "## previosu\n",
    "\n",
    "from pmdarima import auto_arima\n",
    "\n",
    "\n",
    "# auto_arima to determine the best parameters\n",
    "model = auto_arima(\n",
    "    y_train,\n",
    "    start_p=0, start_q=0,\n",
    "    max_p=3, max_q=3,\n",
    "    seasonal=True,        # true if seasonality\n",
    "    start_P=0, start_Q=0,\n",
    "    max_P=3, max_Q=3,\n",
    "    m=52,                 #  seasonality\n",
    "    d=None,               # auto_arima determine the optimal d\n",
    "    D=None,               # auto_arima determine the optimal D\n",
    "    trace=True,          \n",
    "    error_action='ignore',\n",
    "    suppress_warnings=True,\n",
    "    stepwise=True    \n",
    ")\n",
    "\n",
    "#  summary of the model\n",
    "print(model.summary())\n",
    "\n",
    "# save the optimal parameters \n",
    "optimal_params = {\n",
    "    'order': model.order,\n",
    "    'seasonal_order': model.seasonal_order,\n",
    "    'aic': model.aic()\n",
    "}\n",
    "\n",
    "# forecast using the selected model\n",
    "forecast = model.predict(n_periods=len(y_test), exogenous=X_test)"
   ]
  },
  {
   "cell_type": "code",
   "execution_count": null,
   "metadata": {},
   "outputs": [],
   "source": [
    "from pmdarima import auto_arima\n",
    "\n",
    "forecasters = {}\n",
    "optimal_params = {}\n",
    "\n",
    "# Loop through each county in the split_data dictionary\n",
    "for county, data in split_data.items():\n",
    "    print(f\"Training SARIMAX model for: {county}\")\n",
    "    \n",
    "    # Apply asfreq  missing values are filled\n",
    "    y_train = data['y_train'].asfreq('W-MON').ffill()\n",
    "    X_train = data['X_train'].asfreq('W-MON').ffill()\n",
    "    # Use auto_arima to determine the optimal parameters\n",
    "    model = auto_arima(\n",
    "        y                 = y_train,\n",
    "        exogenous         = X_train, \n",
    "        start_p           = 0,\n",
    "        start_q           = 0,\n",
    "        max_p             = 3,\n",
    "        max_q             = 3,\n",
    "        seasonal          = True,\n",
    "        start_P           = 0,\n",
    "        start_Q           = 0,\n",
    "        max_P             = 3,\n",
    "        max_Q             = 3,\n",
    "        m                 = 52,  # seasonal period \n",
    "        d                 = None, \n",
    "        D                 = None,  \n",
    "        trace             = True,\n",
    "        error_action      = 'ignore',\n",
    "        suppress_warnings = True,\n",
    "        stepwise          = True\n",
    "    )\n",
    "    \n",
    "    # Save the optimal parameters\n",
    "    optimal_params[county] = {\n",
    "        'order': model.order,\n",
    "        'seasonal_order': model.seasonal_order,\n",
    "        'aic': model.aic()\n",
    "    }\n",
    "    \n",
    "    print(f\"Optimal parameters for {county}:\")\n",
    "    print(f\"Order: {model.order}\")\n",
    "    print(f\"Seasonal Order: {model.seasonal_order}\")\n",
    "    print(f\"AIC: {model.aic()}\")\n",
    "    print()"
   ]
  },
  {
   "cell_type": "code",
   "execution_count": 85,
   "metadata": {},
   "outputs": [
    {
     "data": {
      "text/plain": [
       "{'Møre og Romsdal': {'order': (0, 0, 0),\n",
       "  'seasonal_order': (0, 1, 0, 52),\n",
       "  'aic': -182.33868945008615},\n",
       " 'Nordland': {'order': (0, 1, 0),\n",
       "  'seasonal_order': (1, 0, 0, 52),\n",
       "  'aic': -1.8238252316543448},\n",
       " 'Rogaland': {'order': (0, 0, 0),\n",
       "  'seasonal_order': (0, 0, 0, 52),\n",
       "  'aic': 222.2236304520619},\n",
       " 'Troms og Finnmark': {'order': (0, 1, 0),\n",
       "  'seasonal_order': (0, 0, 0, 52),\n",
       "  'aic': -160.297680541646},\n",
       " 'Trøndelag': {'order': (0, 0, 1),\n",
       "  'seasonal_order': (1, 0, 0, 52),\n",
       "  'aic': -167.41138390510613},\n",
       " 'Vestland': {'order': (0, 0, 0),\n",
       "  'seasonal_order': (1, 0, 0, 52),\n",
       "  'aic': 77.9836106148412}}"
      ]
     },
     "execution_count": 85,
     "metadata": {},
     "output_type": "execute_result"
    }
   ],
   "source": [
    "optimal_params"
   ]
  },
  {
   "cell_type": "markdown",
   "metadata": {},
   "source": [
    "### Defining training testing sets for testing"
   ]
  },
  {
   "cell_type": "code",
   "execution_count": 84,
   "metadata": {},
   "outputs": [],
   "source": [
    "# Assuming split_data contains your data already split into train, validation, and test sets\n",
    "y_train = split_data['Vestland']['y_train']\n",
    "X_train = split_data['Vestland']['X_train']\n",
    "y_test = split_data['Vestland']['y_test']\n",
    "X_test = split_data['Vestland']['X_test']"
   ]
  },
  {
   "cell_type": "markdown",
   "metadata": {},
   "source": [
    "### statsmodels sarimax "
   ]
  },
  {
   "cell_type": "code",
   "execution_count": null,
   "metadata": {},
   "outputs": [
    {
     "name": "stdout",
     "output_type": "stream",
     "text": [
      "                                     SARIMAX Results                                      \n",
      "==========================================================================================\n",
      "Dep. Variable:                     Outbreak_Count   No. Observations:                  404\n",
      "Model:             SARIMAX(1, 0, 0)x(1, 0, 0, 52)   Log Likelihood                 681.878\n",
      "Date:                            Sat, 10 Aug 2024   AIC                          -1351.757\n",
      "Time:                                    11:40:42   BIC                          -1327.748\n",
      "Sample:                                01-09-2012   HQIC                         -1342.253\n",
      "                                     - 09-30-2019                                         \n",
      "Covariance Type:                              opg                                         \n",
      "====================================================================================\n",
      "                       coef    std err          z      P>|z|      [0.025      0.975]\n",
      "------------------------------------------------------------------------------------\n",
      "Sea temperature      0.0017      0.005      0.370      0.711      -0.008       0.011\n",
      "Week_Lice_Counts    -0.0019      0.003     -0.690      0.490      -0.007       0.003\n",
      "Duration             0.0027      0.005      0.547      0.585      -0.007       0.012\n",
      "ar.L1               -0.1196      0.028     -4.281      0.000      -0.174      -0.065\n",
      "ar.S.L52             0.7195      0.027     26.683      0.000       0.667       0.772\n",
      "sigma2               0.0018   5.82e-05     31.306      0.000       0.002       0.002\n",
      "===================================================================================\n",
      "Ljung-Box (L1) (Q):                   0.03   Jarque-Bera (JB):              1199.01\n",
      "Prob(Q):                              0.85   Prob(JB):                         0.00\n",
      "Heteroskedasticity (H):               8.35   Skew:                             0.49\n",
      "Prob(H) (two-sided):                  0.00   Kurtosis:                        11.38\n",
      "===================================================================================\n",
      "\n",
      "Warnings:\n",
      "[1] Covariance matrix calculated using the outer product of gradients (complex-step).\n"
     ]
    }
   ],
   "source": [
    "from statsmodels.tsa.statespace.sarimax import SARIMAX\n",
    "from sklearn.metrics import mean_squared_error\n",
    "\n",
    "# Ensure the DateTimeIndex has a frequency and fill any missing values\n",
    "y_train = y_train.asfreq('W-MON').ffill()\n",
    "y_test = y_test.asfreq('W-MON').ffill()\n",
    "X_train = X_train.asfreq('W-MON').ffill()\n",
    "X_test = X_test.asfreq('W-MON').ffill()\n",
    "\n",
    "\n",
    "# Fit the SARIMAX model\n",
    "warnings.filterwarnings(\"ignore\", category=UserWarning, message='Non-invertible|Non-stationary')\n",
    "model = SARIMAX(endog=y_train, exog=X_train, order=(0, 0, 0), seasonal_order=(1, 0, 0, 52))\n",
    "model_res = model.fit(disp=0)\n",
    "warnings.filterwarnings(\"default\")\n",
    "\n",
    "# Print the model summary\n",
    "print(model_res.summary())\n",
    "\n",
    "# Make predictions on the test set\n",
    "#predictions = model_res.predict(start= y_test.index[0], end= y_test.index[-1], exog=X_test)\n",
    "# Manually define the start and end timestamps for prediction\n",
    "\n"
   ]
  },
  {
   "cell_type": "code",
   "execution_count": null,
   "metadata": {},
   "outputs": [],
   "source": [
    "#start_date = '2021-01-01 00:00:00'  # Example start date\n",
    "#end_date = '2023-12-31 23:59:59'    # Example end date\n",
    "\n",
    "# Make predictions on the test set\n",
    "#predictions = model_res.predict(start=start_date, end=end_date, exog=X_test.loc[start_date:end_date])\n",
    "#predictions = model_res.predict(start=len(y_train), end=len(y_train) + len(y_test) - 1, exog=X_test)\n",
    "# Use the exact start and end dates from y_test index\n",
    "start_date = y_test.index[0]  # Start from the first date in y_test\n",
    "end_date = y_test.index[-1]   # End at the last date in y_test\n",
    "\n",
    "# Make predictions on the test set\n",
    "predictions = model_res.predict(start=start_date, end=end_date, exog=X_test)\n",
    "\n",
    "\n",
    "# Calculate the MSE\n",
    "mse = mean_squared_error(y_train, predictions)\n",
    "print(f\"Mean Squared Error (MSE): {mse}\")"
   ]
  },
  {
   "cell_type": "markdown",
   "metadata": {},
   "source": [
    "## skforecast  sariamx"
   ]
  },
  {
   "cell_type": "code",
   "execution_count": 13,
   "metadata": {},
   "outputs": [],
   "source": [
    "import numpy as np\n",
    "import pandas as pd\n",
    "import matplotlib.pyplot as plt\n",
    "from skforecast.Sarimax import Sarimax\n",
    "from skforecast.ForecasterSarimax import ForecasterSarimax\n",
    "from skforecast.model_selection_sarimax import backtesting_sarimax\n",
    "from skforecast.model_selection_sarimax import grid_search_sarimax\n",
    "from skforecast.datasets import fetch_dataset\n",
    "from pmdarima import ARIMA\n",
    "from pmdarima import auto_arima\n",
    "from statsmodels.tsa.statespace.sarimax import SARIMAX\n",
    "from sklearn.metrics import mean_absolute_error\n",
    "import warnings\n",
    "warnings.filterwarnings('ignore')"
   ]
  },
  {
   "cell_type": "code",
   "execution_count": 101,
   "metadata": {},
   "outputs": [
    {
     "data": {
      "text/plain": [
       "================= \n",
       "ForecasterSarimax \n",
       "================= \n",
       "Regressor: Sarimax(0,1,0)(3,0,0)[52] \n",
       "Regressor parameters: {'concentrate_scale': False, 'dates': None, 'disp': False, 'enforce_invertibility': True, 'enforce_stationarity': True, 'freq': None, 'hamilton_representation': False, 'maxiter': 1000, 'measurement_error': False, 'method': 'lbfgs', 'missing': 'none', 'mle_regression': True, 'order': (0, 1, 0), 'seasonal_order': (3, 0, 0, 52), 'simple_differencing': False, 'sm_fit_kwargs': {}, 'sm_init_kwargs': {}, 'sm_predict_kwargs': {}, 'start_params': None, 'time_varying_regression': False, 'trend': None, 'trend_offset': 1, 'use_exact_diffuse': False, 'validate_specification': True} \n",
       "fit_kwargs: {} \n",
       "Window size: 1 \n",
       "Transformer for y: None \n",
       "Transformer for exog: None \n",
       "Exogenous included: False \n",
       "Type of exogenous variable: None \n",
       "Exogenous variables names: None \n",
       "Training range: [Timestamp('2012-01-09 00:00:00'), Timestamp('2021-09-13 00:00:00')] \n",
       "Training index type: DatetimeIndex \n",
       "Training index frequency: W-MON \n",
       "Creation date: 2024-08-10 16:28:13 \n",
       "Last fit date: 2024-08-10 16:28:32 \n",
       "Index seen by the forecaster: DatetimeIndex(['2012-01-09', '2012-01-16', '2012-01-23', '2012-01-30',\n",
       "               '2012-02-06', '2012-02-13', '2012-02-20', '2012-02-27',\n",
       "               '2012-03-05', '2012-03-12',\n",
       "               ...\n",
       "               '2021-07-12', '2021-07-19', '2021-07-26', '2021-08-02',\n",
       "               '2021-08-09', '2021-08-16', '2021-08-23', '2021-08-30',\n",
       "               '2021-09-06', '2021-09-13'],\n",
       "              dtype='datetime64[ns]', name='Date', length=506, freq='W-MON') \n",
       "Skforecast version: 0.12.1 \n",
       "Python version: 3.8.5 \n",
       "Forecaster id: None "
      ]
     },
     "execution_count": 101,
     "metadata": {},
     "output_type": "execute_result"
    }
   ],
   "source": [
    "# Ensure the DateTimeIndex has a frequency and fill any missing values\n",
    "y_train = y_train.asfreq('W-MON').ffill()\n",
    "y_test = y_test.asfreq('W-MON').ffill()\n",
    "X_train = X_train.asfreq('W-MON').ffill()\n",
    "X_test = X_test.asfreq('W-MON').ffill()\n",
    "\n",
    "\n",
    "forecaster = ForecasterSarimax(\n",
    "                 regressor=Sarimax(order=(0, 1, 0), seasonal_order=(3, 0, 0, 52), maxiter=1000),\n",
    "             )\n",
    "\n",
    "forecaster.fit(y= y_train, suppress_warnings=True)\n",
    "forecaster"
   ]
  },
  {
   "cell_type": "code",
   "execution_count": 92,
   "metadata": {},
   "outputs": [
    {
     "data": {
      "text/plain": [
       "2021-09-20   -0.062192\n",
       "2021-09-27   -0.066930\n",
       "2021-10-04   -0.054701\n",
       "Freq: W-MON, Name: pred, dtype: float64"
      ]
     },
     "execution_count": 92,
     "metadata": {},
     "output_type": "execute_result"
    }
   ],
   "source": [
    "predictions = forecaster.predict(steps=127)\n",
    "predictions.head(3)"
   ]
  },
  {
   "cell_type": "code",
   "execution_count": 117,
   "metadata": {},
   "outputs": [
    {
     "name": "stdout",
     "output_type": "stream",
     "text": [
      "Test error (mse): 1.709951678425365\n"
     ]
    }
   ],
   "source": [
    "error_mse = mean_absolute_error(\n",
    "                y_true = y_test,\n",
    "                y_pred = predictions\n",
    "            )\n",
    "\n",
    "print(f\"Test error (mse): {error_mse}\")"
   ]
  },
  {
   "cell_type": "code",
   "execution_count": null,
   "metadata": {},
   "outputs": [],
   "source": [
    "# Plot predictions\n",
    "import matplotlib.pyplot as plt\n",
    "\n",
    "# Plotting the data\n",
    "fig, ax = plt.subplots(figsize=(20, 10))\n",
    "\n",
    "# Plot the training data, test data, and predictions\n",
    "y_train.plot(ax=ax, label='train')\n",
    "y_test.plot(ax=ax, label='test')\n",
    "predictions.plot(ax=ax, label='predictions')\n",
    "\n",
    "# Set the y-axis limits to between -0.5 and 5\n",
    "#ax.set_ylim([-0.5,0.5])\n",
    "\n",
    "# Add a legend\n",
    "ax.legend()\n",
    "\n",
    "# Display the plot\n",
    "plt.show()"
   ]
  },
  {
   "cell_type": "code",
   "execution_count": 122,
   "metadata": {},
   "outputs": [
    {
     "name": "stderr",
     "output_type": "stream",
     "text": [
      "/opt/anaconda3/lib/python3.8/site-packages/ipykernel/ipkernel.py:287: DeprecationWarning: `should_run_async` will not call `transform_cell` automatically in the future. Please pass the result to `transformed_cell` argument and any exception that happen during thetransform in `preprocessing_exc_tuple` in IPython 7.17 and above.\n",
      "  and should_run_async(code)\n"
     ]
    },
    {
     "data": {
      "image/png": "[encoded data removed]",
      "text/plain": [
       "<Figure size 1008x504 with 1 Axes>"
      ]
     },
     "metadata": {
      "needs_background": "light"
     },
     "output_type": "display_data"
    },
    {
     "data": {
      "text/plain": [
       "<Figure size 720x432 with 0 Axes>"
      ]
     },
     "metadata": {},
     "output_type": "display_data"
    },
    {
     "data": {
      "image/png": "[encoded data removed]",
      "text/plain": [
       "<Figure size 432x288 with 1 Axes>"
      ]
     },
     "metadata": {
      "needs_background": "light"
     },
     "output_type": "display_data"
    }
   ],
   "source": [
    "# Plot residuals\n",
    "residuals = y_test - predictions\n",
    "plt.figure(figsize=(14, 7))\n",
    "plt.plot(y_test.index, residuals, label='Residuals')\n",
    "plt.title('Residuals Over Time')\n",
    "plt.legend()\n",
    "plt.show()\n",
    "\n",
    "from statsmodels.graphics.tsaplots import plot_acf\n",
    "\n",
    "plt.figure(figsize=(10, 6))\n",
    "plot_acf(residuals, lags=50)\n",
    "plt.title('Autocorrelation of Residuals')\n",
    "plt.show()"
   ]
  },
  {
   "cell_type": "code",
   "execution_count": null,
   "metadata": {},
   "outputs": [],
   "source": [
    "forecast = model_res.get_forecast(steps=len(y_test), exog=X_test)\n",
    "mean_forecast = forecast.predicted_mean\n",
    "conf_int = forecast.conf_int()\n",
    "\n",
    "plt.figure(figsize=(14, 7))\n",
    "plt.plot(y_test.index, y_test, label='Actual')\n",
    "plt.plot(y_test.index, mean_forecast, color='red', label='Forecast')\n",
    "plt.fill_between(y_test.index, conf_int.iloc[:, 0], conf_int.iloc[:, 1], color='pink', alpha=0.3)\n",
    "plt.title('Forecast with Confidence Intervals')\n",
    "plt.legend()\n",
    "plt.show()\n"
   ]
  },
  {
   "cell_type": "code",
   "execution_count": null,
   "metadata": {},
   "outputs": [],
   "source": [
    "\n",
    "\n",
    "# For Testing Data\n",
    "test_predictions = model_res.predict(start=y_test.index[0], end=y_test.index[-1], exog=X_test)\n",
    "test_mse = mean_squared_error(y_test, test_predictions)\n",
    "test_rmse = np.sqrt(test_mse)\n",
    "test_mae = mean_absolute_error(y_test, test_predictions)\n",
    "\n",
    "print(f\"Training Data - MSE: {train_mse}, RMSE: {train_rmse}, MAE: {train_mae}\")\n",
    "print(f\"Testing Data - MSE: {test_mse}, RMSE: {test_rmse}, MAE: {test_mae}\")"
   ]
  },
  {
   "cell_type": "code",
   "execution_count": 112,
   "metadata": {},
   "outputs": [],
   "source": [
    "# Assuming split_data contains your data already split into train, validation, and test sets\n",
    "y_train = split_data['Vestland']['y_train']\n",
    "X_train = split_data['Vestland']['X_train']\n",
    "y_test = split_data['Vestland']['y_test']\n",
    "X_test = split_data['Vestland']['X_test']"
   ]
  },
  {
   "cell_type": "code",
   "execution_count": 113,
   "metadata": {},
   "outputs": [
    {
     "name": "stderr",
     "output_type": "stream",
     "text": [
      "/opt/anaconda3/lib/python3.8/site-packages/ipykernel/ipkernel.py:287: DeprecationWarning: `should_run_async` will not call `transform_cell` automatically in the future. Please pass the result to `transformed_cell` argument and any exception that happen during thetransform in `preprocessing_exc_tuple` in IPython 7.17 and above.\n",
      "  and should_run_async(code)\n"
     ]
    }
   ],
   "source": [
    "# Ensure the DateTimeIndex has a frequency and fill any missing values\n",
    "y_train = y_train.asfreq('W-MON').ffill()\n",
    "y_test = y_test.asfreq('W-MON').ffill()\n",
    "X_train = X_train.asfreq('W-MON').ffill()\n",
    "X_test = X_test.asfreq('W-MON').ffill()\n",
    "\n",
    "forecaster = ForecasterSarimax(\n",
    "                 regressor=Sarimax(order=(0, 1, 0), seasonal_order=(3, 0, 0, 52), maxiter=200),\n",
    "             )\n",
    "\n",
    "forecaster.fit(\n",
    "    y                 = y_train, \n",
    "    exog              = X_train,\n",
    "    suppress_warnings = True\n",
    ")"
   ]
  },
  {
   "cell_type": "code",
   "execution_count": 116,
   "metadata": {},
   "outputs": [
    {
     "data": {
      "text/plain": [
       "2021-09-20    2.016043\n",
       "2021-09-27    1.992376\n",
       "2021-10-04    1.990894\n",
       "Freq: W-MON, Name: pred, dtype: float64"
      ]
     },
     "execution_count": 116,
     "metadata": {},
     "output_type": "execute_result"
    }
   ],
   "source": [
    "predictions = forecaster.predict(\n",
    "                  steps = 127,\n",
    "                  exog  = X_test\n",
    "              )\n",
    "predictions.head(3)"
   ]
  },
  {
   "cell_type": "markdown",
   "metadata": {},
   "source": [
    "# TCN"
   ]
  },
  {
   "cell_type": "code",
   "execution_count": 146,
   "metadata": {},
   "outputs": [
    {
     "name": "stderr",
     "output_type": "stream",
     "text": [
      "/opt/anaconda3/lib/python3.8/site-packages/ipykernel/ipkernel.py:287: DeprecationWarning: `should_run_async` will not call `transform_cell` automatically in the future. Please pass the result to `transformed_cell` argument and any exception that happen during thetransform in `preprocessing_exc_tuple` in IPython 7.17 and above.\n",
      "  and should_run_async(code)\n"
     ]
    }
   ],
   "source": [
    "from tcn import TCN, tcn_full_summary"
   ]
  },
  {
   "cell_type": "code",
   "execution_count": null,
   "metadata": {},
   "outputs": [],
   "source": [
    "from math import sqrt\n",
    "import numpy as np\n",
    "import pandas as pd\n",
    "from matplotlib import pyplot as plt\n",
    "import seaborn as sns\n",
    "from sklearn.preprocessing import StandardScaler, MinMaxScaler\n",
    "from sklearn.metrics import mean_squared_error, r2_score\n",
    "from tensorflow.keras.preprocessing.sequence import TimeseriesGenerator\n",
    "from tensorflow.keras.models import Sequential\n",
    "from tensorflow.keras.layers import Dense, LSTM, Input\n",
    "from tensorflow.keras.callbacks import EarlyStopping\n"
   ]
  },
  {
   "cell_type": "code",
   "execution_count": null,
   "metadata": {},
   "outputs": [
    {
     "name": "stderr",
     "output_type": "stream",
     "text": [
      "/opt/anaconda3/lib/python3.8/site-packages/ipykernel/ipkernel.py:287: DeprecationWarning: `should_run_async` will not call `transform_cell` automatically in the future. Please pass the result to `transformed_cell` argument and any exception that happen during thetransform in `preprocessing_exc_tuple` in IPython 7.17 and above.\n",
      "  and should_run_async(code)\n"
     ]
    }
   ],
   "source": [
    "def preprocess_data(df:pd.DataFrame, columns:list, perc_train:float, timesteps:int, steps_to_predict:int, split:bool):\n",
    "  #Remove year 2017 (2017 will be used to test and benchmark the different models)\n",
    "\n",
    "  df_internal = county_dfs['Vestland'][columns]\n",
    "\n",
    "  X_scaler = MinMaxScaler()\n",
    "  df_X = X_scaler.fit_transform(df_internal)\n",
    "\n",
    "  df_y = df_internal.to_numpy()\n",
    "\n",
    "  #Generate Sample Sequences\n",
    "  timesteps = timesteps \n",
    "  steps_to_predict = steps_to_predict #\n",
    "  generator = TimeseriesGenerator(df_X, df_y, length=timesteps, batch_size=steps_to_predict)\n",
    "\n",
    "  \n",
    "  X = np.array([x[0].reshape(timesteps,x[0].shape[-1]) for x in generator])\n",
    "  y = np.array([x[1][0][0].reshape(1) for x in generator])\n",
    "lps the\n",
    "  #Normalize data into a 0 / 1 range.\n",
    "  y_scaler = MinMaxScaler()\n",
    "  y = y_scaler.fit_transform(y)\n",
    "\n",
    "  if split:\n",
    "    #Split data\n",
    "    size_train = int(len(X) * perc_train)\n",
    "    X_train = X[:size_train]\n",
    "    y_train = y[:size_train]\n",
    "    X_test = X[size_train:]\n",
    "    y_test = y[size_train:]\n",
    "\n",
    "    plt.figure(figsize=(20,6))\n",
    "    sns.lineplot(x=df_internal[timesteps:len(y_train)+timesteps].index, y=y_train[:,0], label='Train')\n",
    "    sns.lineplot(x=df_internal[len(y_train)+timesteps:].index, y=y_test[:,0], label='Test')\n",
    "    plt.show()\n",
    "\n",
    "    #Return data (inluding scaler for inverse scaling)\n",
    "    return X_train, X_test, y_train, y_test, X_scaler, y_scaler\n",
    "\n",
    "  else:\n",
    "    # Return all data for training\n",
    "    X_train = X\n",
    "    y_train = y\n",
    "    return X_train, y_train, X_scaler, y_scaler"
   ]
  },
  {
   "cell_type": "code",
   "execution_count": 172,
   "metadata": {},
   "outputs": [],
   "source": [
    "def metrics(results, y_test, y_pred):\n",
    "  losses = pd.DataFrame(results.history)\n",
    "  losses.plot(figsize=(15,6), title='Loss', xlabel = \"Epochs\", ylabel='Loss')\n",
    "  plt.figure(figsize=(15,6))\n",
    "  plt.xlabel('Date')\n",
    "  plt.ylabel('Outbreak Count, Vestland')\n",
    "# Plot the test data\n",
    "  #sns.lineplot(x=df.index[-len(y_test):], y=y_test[:,0], label='Test')\n",
    " # sns.lineplot(x=df.index[-len(y_pred):], y=y_pred[:,0], label='Predict')\n",
    "  \n",
    "    # Plot the test data\n",
    "  sns.lineplot(x=df.index[-len(y_test):], y=y_test[:,0], label='Test')\n",
    "  sns.lineplot(x=df.index[-len(y_pred):], y=y_pred[:,0], label='Predict')\n",
    "\n",
    "  plt.show()\n",
    "  r2 = r2_score(y_test, y_pred)\n",
    "  rmse = sqrt(mean_squared_error(y_test, y_pred))\n",
    "  print('Model Metrics:')\n",
    "  print(f'R2_Score: {r2}')\n",
    "  print(f'RMSE: {rmse}' )\n",
    "  return r2, rmse"
   ]
  },
  {
   "cell_type": "code",
   "execution_count": 150,
   "metadata": {},
   "outputs": [
    {
     "name": "stderr",
     "output_type": "stream",
     "text": [
      "/opt/anaconda3/lib/python3.8/site-packages/ipykernel/ipkernel.py:287: DeprecationWarning: `should_run_async` will not call `transform_cell` automatically in the future. Please pass the result to `transformed_cell` argument and any exception that happen during thetransform in `preprocessing_exc_tuple` in IPython 7.17 and above.\n",
      "  and should_run_async(code)\n"
     ]
    }
   ],
   "source": [
    "def TCN_model(X_shape:tuple, patience=None):\n",
    "  model = Sequential()\n",
    "  #Pass input shape\n",
    "  model.add(Input(shape=(X_shape[1],X_shape[2])))\n",
    "  model.add(TCN(nb_filters=64,\n",
    "                kernel_size=3,\n",
    "                nb_stacks=1,\n",
    "                dilations=[1, 2, 4, 8],\n",
    "                use_layer_norm=True,\n",
    "                dropout_rate=0.02,\n",
    "                kernel_initializer='glorot_uniform'))\n",
    "  model.add(Dense(1))\n",
    "  model.compile(optimizer='adam', loss='mse')\n",
    "  if patience:\n",
    "    early_stop = EarlyStopping(monitor='val_loss', patience=patience)\n",
    "    return model, early_stop\n",
    "  else:\n",
    "    return model"
   ]
  },
  {
   "cell_type": "code",
   "execution_count": 168,
   "metadata": {},
   "outputs": [],
   "source": [
    "timesteps = 52\n",
    "steps_to_predict = 1"
   ]
  },
  {
   "cell_type": "code",
   "execution_count": 159,
   "metadata": {},
   "outputs": [
    {
     "name": "stderr",
     "output_type": "stream",
     "text": [
      "/opt/anaconda3/lib/python3.8/site-packages/ipykernel/ipkernel.py:287: DeprecationWarning: `should_run_async` will not call `transform_cell` automatically in the future. Please pass the result to `transformed_cell` argument and any exception that happen during thetransform in `preprocessing_exc_tuple` in IPython 7.17 and above.\n",
      "  and should_run_async(code)\n"
     ]
    },
    {
     "data": {
      "image/png": "[encoded data removed]",
      "text/plain": [
       "<Figure size 1440x432 with 1 Axes>"
      ]
     },
     "metadata": {
      "needs_background": "light"
     },
     "output_type": "display_data"
    }
   ],
   "source": [
    "columns = ['Sea temperature', 'Week_Lice_Counts', 'Duration']\n",
    "X_train, X_test, y_train, y_test, X_scaler, y_scaler = preprocess_data(df, columns, 0.8, timesteps, steps_to_predict, split=True)"
   ]
  },
  {
   "cell_type": "code",
   "execution_count": 169,
   "metadata": {},
   "outputs": [
    {
     "name": "stdout",
     "output_type": "stream",
     "text": [
      "Model: \"sequential_1\"\n",
      "_________________________________________________________________\n",
      " Layer (type)                Output Shape              Param #   \n",
      "=================================================================\n",
      " tcn_1 (TCN)                 (None, 64)                88384     \n",
      "                                                                 \n",
      " dense_1 (Dense)             (None, 1)                 65        \n",
      "                                                                 \n",
      "=================================================================\n",
      "Total params: 88,449\n",
      "Trainable params: 88,449\n",
      "Non-trainable params: 0\n",
      "_________________________________________________________________\n"
     ]
    }
   ],
   "source": [
    "model = TCN_model(X_train.shape)\n",
    "model.summary()"
   ]
  },
  {
   "cell_type": "code",
   "execution_count": 170,
   "metadata": {},
   "outputs": [
    {
     "name": "stdout",
     "output_type": "stream",
     "text": [
      "Epoch 1/40\n",
      "16/16 [==============================] - 6s 91ms/step - loss: 1.1223 - val_loss: 0.0745\n",
      "Epoch 2/40\n",
      "16/16 [==============================] - 1s 44ms/step - loss: 0.1464 - val_loss: 0.0120\n",
      "Epoch 3/40\n",
      "16/16 [==============================] - 1s 44ms/step - loss: 0.0881 - val_loss: 0.0601\n",
      "Epoch 4/40\n",
      "16/16 [==============================] - 1s 45ms/step - loss: 0.0615 - val_loss: 0.0305\n",
      "Epoch 5/40\n",
      "16/16 [==============================] - 1s 45ms/step - loss: 0.0458 - val_loss: 0.0562\n",
      "Epoch 6/40\n",
      "16/16 [==============================] - 1s 43ms/step - loss: 0.0550 - val_loss: 0.0086\n",
      "Epoch 7/40\n",
      "16/16 [==============================] - 1s 43ms/step - loss: 0.0495 - val_loss: 0.0067\n",
      "Epoch 8/40\n",
      "16/16 [==============================] - 1s 48ms/step - loss: 0.0472 - val_loss: 0.0067\n",
      "Epoch 9/40\n",
      "16/16 [==============================] - 1s 47ms/step - loss: 0.0396 - val_loss: 0.0281\n",
      "Epoch 10/40\n",
      "16/16 [==============================] - 1s 44ms/step - loss: 0.0361 - val_loss: 0.0066\n",
      "Epoch 11/40\n",
      "16/16 [==============================] - 1s 40ms/step - loss: 0.0356 - val_loss: 0.0059\n",
      "Epoch 12/40\n",
      "16/16 [==============================] - 1s 49ms/step - loss: 0.0331 - val_loss: 0.0326\n",
      "Epoch 13/40\n",
      "16/16 [==============================] - 1s 50ms/step - loss: 0.0332 - val_loss: 0.0108\n",
      "Epoch 14/40\n",
      "16/16 [==============================] - 1s 54ms/step - loss: 0.0296 - val_loss: 0.0090\n",
      "Epoch 15/40\n",
      "16/16 [==============================] - 1s 51ms/step - loss: 0.0306 - val_loss: 0.0076\n",
      "Epoch 16/40\n",
      "16/16 [==============================] - 1s 61ms/step - loss: 0.0209 - val_loss: 0.0234\n",
      "Epoch 17/40\n",
      "16/16 [==============================] - 1s 59ms/step - loss: 0.0303 - val_loss: 0.0055\n",
      "Epoch 18/40\n",
      "16/16 [==============================] - 1s 65ms/step - loss: 0.0316 - val_loss: 0.0218\n",
      "Epoch 19/40\n",
      "16/16 [==============================] - 1s 52ms/step - loss: 0.0267 - val_loss: 0.0030\n",
      "Epoch 20/40\n",
      "16/16 [==============================] - 1s 52ms/step - loss: 0.0215 - val_loss: 0.0035\n",
      "Epoch 21/40\n",
      "16/16 [==============================] - 1s 57ms/step - loss: 0.0182 - val_loss: 0.0120\n",
      "Epoch 22/40\n",
      "16/16 [==============================] - 1s 53ms/step - loss: 0.0202 - val_loss: 0.0249\n",
      "Epoch 23/40\n",
      "16/16 [==============================] - 1s 64ms/step - loss: 0.0247 - val_loss: 0.0144\n",
      "Epoch 24/40\n",
      "16/16 [==============================] - 1s 48ms/step - loss: 0.0168 - val_loss: 0.0057\n",
      "Epoch 25/40\n",
      "16/16 [==============================] - 1s 48ms/step - loss: 0.0152 - val_loss: 0.0030\n",
      "Epoch 26/40\n",
      "16/16 [==============================] - 1s 54ms/step - loss: 0.0133 - val_loss: 0.0091\n",
      "Epoch 27/40\n",
      "16/16 [==============================] - 1s 51ms/step - loss: 0.0210 - val_loss: 0.0106\n",
      "Epoch 28/40\n",
      "16/16 [==============================] - 1s 49ms/step - loss: 0.0298 - val_loss: 0.0052\n",
      "Epoch 29/40\n",
      "16/16 [==============================] - 1s 56ms/step - loss: 0.0203 - val_loss: 0.0091\n",
      "Epoch 30/40\n",
      "16/16 [==============================] - 1s 54ms/step - loss: 0.0163 - val_loss: 0.0025\n",
      "Epoch 31/40\n",
      "16/16 [==============================] - 1s 54ms/step - loss: 0.0177 - val_loss: 0.0037\n",
      "Epoch 32/40\n",
      "16/16 [==============================] - 1s 48ms/step - loss: 0.0145 - val_loss: 0.0073\n",
      "Epoch 33/40\n",
      "16/16 [==============================] - 1s 50ms/step - loss: 0.0187 - val_loss: 0.0100\n",
      "Epoch 34/40\n",
      "16/16 [==============================] - 1s 48ms/step - loss: 0.0164 - val_loss: 0.0034\n",
      "Epoch 35/40\n",
      "16/16 [==============================] - 1s 60ms/step - loss: 0.0128 - val_loss: 0.0612\n",
      "Epoch 36/40\n",
      "16/16 [==============================] - 1s 53ms/step - loss: 0.0376 - val_loss: 0.0032\n",
      "Epoch 37/40\n",
      "16/16 [==============================] - 1s 54ms/step - loss: 0.0235 - val_loss: 0.0337\n",
      "Epoch 38/40\n",
      "16/16 [==============================] - 1s 64ms/step - loss: 0.0193 - val_loss: 0.0960\n",
      "Epoch 39/40\n",
      "16/16 [==============================] - 1s 47ms/step - loss: 0.0417 - val_loss: 0.0108\n",
      "Epoch 40/40\n",
      "16/16 [==============================] - 1s 48ms/step - loss: 0.0214 - val_loss: 0.0128\n",
      "4/4 [==============================] - 1s 14ms/step\n"
     ]
    }
   ],
   "source": [
    "results = model.fit(X_train, y_train, validation_data=(X_test,y_test), epochs=40)\n",
    "y_pred = model.predict(X_test)"
   ]
  },
  {
   "cell_type": "code",
   "execution_count": 173,
   "metadata": {},
   "outputs": [
    {
     "data": {
      "image/png": "[encoded data removed]",
      "text/plain": [
       "<Figure size 1080x432 with 1 Axes>"
      ]
     },
     "metadata": {
      "needs_background": "light"
     },
     "output_type": "display_data"
    },
    {
     "data": {
      "image/png": "[encoded data removed]",
      "text/plain": [
       "<Figure size 1080x432 with 1 Axes>"
      ]
     },
     "metadata": {
      "needs_background": "light"
     },
     "output_type": "display_data"
    },
    {
     "name": "stdout",
     "output_type": "stream",
     "text": [
      "Model Metrics:\n",
      "R2_Score: 0.7256136550711141\n",
      "RMSE: 0.11313002179576986\n"
     ]
    }
   ],
   "source": [
    "r2_one, rmse_one = metrics(results, y_test, y_pred)"
   ]
  }
 ],
 "metadata": {
  "kernelspec": {
   "display_name": "Python 3",
   "language": "python",
   "name": "python3"
  },
  "language_info": {
   "codemirror_mode": {
    "name": "ipython",
    "version": 3
   },
   "file_extension": ".py",
   "mimetype": "text/x-python",
   "name": "python",
   "nbconvert_exporter": "python",
   "pygments_lexer": "ipython3",
   "version": "3.8.5"
  }
 },
 "nbformat": 4,
 "nbformat_minor": 2
}
